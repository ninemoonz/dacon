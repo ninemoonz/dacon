{
  "cells": [
    {
      "cell_type": "markdown",
      "metadata": {
        "id": "view-in-github",
        "colab_type": "text"
      },
      "source": [
        "<a href=\"https://colab.research.google.com/github/ninemoonz/dacon/blob/main/fashion_MNIST.ipynb\" target=\"_parent\"><img src=\"https://colab.research.google.com/assets/colab-badge.svg\" alt=\"Open In Colab\"/></a>"
      ]
    },
    {
      "cell_type": "markdown",
      "metadata": {
        "id": "JBIEGcefd4_e"
      },
      "source": [
        "## Image Classification\n",
        "## Natural Language Processing\n",
        "# With Convolutional Neural Network (CNN)\n",
        "\n",
        "- 28 * 28 px images\n",
        "- 10 types(classes) of clothes\n",
        "- 60,000 training data\n",
        "- 10,000 evaluating data\n"
      ]
    },
    {
      "cell_type": "code",
      "execution_count": null,
      "metadata": {
        "colab": {
          "base_uri": "https://localhost:8080/"
        },
        "id": "ODI3CDWudlKs",
        "outputId": "c84eabac-0744-49b7-be70-7f2a2e099da0"
      },
      "outputs": [
        {
          "output_type": "stream",
          "name": "stdout",
          "text": [
            "Mounted at /gdrive\n"
          ]
        }
      ],
      "source": [
        "# library setting\n",
        "import pandas as pd\n",
        "import numpy as np\n",
        "import tensorflow as tf\n",
        "import random\n",
        "\n",
        "SEED=12\n",
        "random.seed(SEED)\n",
        "np.random.seed(SEED)\n",
        "tf.random.set_seed(SEED)\n",
        "\n",
        "#google drive folder mount\n",
        "from google.colab import drive, files\n",
        "drive.mount('/gdrive')"
      ]
    },
    {
      "cell_type": "markdown",
      "metadata": {
        "id": "1umOiWomh_vT"
      },
      "source": [
        "## 1-1 Data Pre-processing"
      ]
    },
    {
      "cell_type": "code",
      "execution_count": null,
      "metadata": {
        "colab": {
          "base_uri": "https://localhost:8080/"
        },
        "id": "aNjbxAUFh9jd",
        "outputId": "7f8850ad-4376-4603-bf7c-f21331023967"
      },
      "outputs": [
        {
          "output_type": "stream",
          "name": "stdout",
          "text": [
            "(60000, 786) (10000, 785) (10000, 2)\n"
          ]
        }
      ],
      "source": [
        "drive_path = \"/gdrive/My Drive/\"\n",
        "train = pd.read_csv(drive_path + \"fashion/train.csv\")\n",
        "test = pd.read_csv(drive_path + \"fashion/test.csv\")\n",
        "submission = pd.read_csv(drive_path + \"fashion/sample_submission.csv\")\n",
        "\n",
        "print(train.shape, test.shape, submission.shape)"
      ]
    },
    {
      "cell_type": "code",
      "execution_count": null,
      "metadata": {
        "colab": {
          "base_uri": "https://localhost:8080/",
          "height": 236
        },
        "id": "Urdv824Eiv1h",
        "outputId": "9172484d-374b-4271-e56c-f46e4c63fbde"
      },
      "outputs": [
        {
          "output_type": "execute_result",
          "data": {
            "text/plain": [
              "   index  label  pixel1  pixel2  pixel3  pixel4  pixel5  pixel6  pixel7  \\\n",
              "0      0      2       0       0       0       0       0       0       0   \n",
              "1      1      9       0       0       0       0       0       0       0   \n",
              "2      2      6       0       0       0       0       0       0       0   \n",
              "3      3      0       0       0       0       1       2       0       0   \n",
              "4      4      3       0       0       0       0       0       0       0   \n",
              "\n",
              "   pixel8  ...  pixel775  pixel776  pixel777  pixel778  pixel779  pixel780  \\\n",
              "0       0  ...         0         0         0         0         0         0   \n",
              "1       0  ...         0         0         0         0         0         0   \n",
              "2       5  ...         0         0         0        30        43         0   \n",
              "3       0  ...         3         0         0         0         0         1   \n",
              "4       0  ...         0         0         0         0         0         0   \n",
              "\n",
              "   pixel781  pixel782  pixel783  pixel784  \n",
              "0         0         0         0         0  \n",
              "1         0         0         0         0  \n",
              "2         0         0         0         0  \n",
              "3         0         0         0         0  \n",
              "4         0         0         0         0  \n",
              "\n",
              "[5 rows x 786 columns]"
            ],
            "text/html": [
              "\n",
              "  <div id=\"df-661e33a6-2ab7-412d-b9e4-7363d4ec61ca\">\n",
              "    <div class=\"colab-df-container\">\n",
              "      <div>\n",
              "<style scoped>\n",
              "    .dataframe tbody tr th:only-of-type {\n",
              "        vertical-align: middle;\n",
              "    }\n",
              "\n",
              "    .dataframe tbody tr th {\n",
              "        vertical-align: top;\n",
              "    }\n",
              "\n",
              "    .dataframe thead th {\n",
              "        text-align: right;\n",
              "    }\n",
              "</style>\n",
              "<table border=\"1\" class=\"dataframe\">\n",
              "  <thead>\n",
              "    <tr style=\"text-align: right;\">\n",
              "      <th></th>\n",
              "      <th>index</th>\n",
              "      <th>label</th>\n",
              "      <th>pixel1</th>\n",
              "      <th>pixel2</th>\n",
              "      <th>pixel3</th>\n",
              "      <th>pixel4</th>\n",
              "      <th>pixel5</th>\n",
              "      <th>pixel6</th>\n",
              "      <th>pixel7</th>\n",
              "      <th>pixel8</th>\n",
              "      <th>...</th>\n",
              "      <th>pixel775</th>\n",
              "      <th>pixel776</th>\n",
              "      <th>pixel777</th>\n",
              "      <th>pixel778</th>\n",
              "      <th>pixel779</th>\n",
              "      <th>pixel780</th>\n",
              "      <th>pixel781</th>\n",
              "      <th>pixel782</th>\n",
              "      <th>pixel783</th>\n",
              "      <th>pixel784</th>\n",
              "    </tr>\n",
              "  </thead>\n",
              "  <tbody>\n",
              "    <tr>\n",
              "      <th>0</th>\n",
              "      <td>0</td>\n",
              "      <td>2</td>\n",
              "      <td>0</td>\n",
              "      <td>0</td>\n",
              "      <td>0</td>\n",
              "      <td>0</td>\n",
              "      <td>0</td>\n",
              "      <td>0</td>\n",
              "      <td>0</td>\n",
              "      <td>0</td>\n",
              "      <td>...</td>\n",
              "      <td>0</td>\n",
              "      <td>0</td>\n",
              "      <td>0</td>\n",
              "      <td>0</td>\n",
              "      <td>0</td>\n",
              "      <td>0</td>\n",
              "      <td>0</td>\n",
              "      <td>0</td>\n",
              "      <td>0</td>\n",
              "      <td>0</td>\n",
              "    </tr>\n",
              "    <tr>\n",
              "      <th>1</th>\n",
              "      <td>1</td>\n",
              "      <td>9</td>\n",
              "      <td>0</td>\n",
              "      <td>0</td>\n",
              "      <td>0</td>\n",
              "      <td>0</td>\n",
              "      <td>0</td>\n",
              "      <td>0</td>\n",
              "      <td>0</td>\n",
              "      <td>0</td>\n",
              "      <td>...</td>\n",
              "      <td>0</td>\n",
              "      <td>0</td>\n",
              "      <td>0</td>\n",
              "      <td>0</td>\n",
              "      <td>0</td>\n",
              "      <td>0</td>\n",
              "      <td>0</td>\n",
              "      <td>0</td>\n",
              "      <td>0</td>\n",
              "      <td>0</td>\n",
              "    </tr>\n",
              "    <tr>\n",
              "      <th>2</th>\n",
              "      <td>2</td>\n",
              "      <td>6</td>\n",
              "      <td>0</td>\n",
              "      <td>0</td>\n",
              "      <td>0</td>\n",
              "      <td>0</td>\n",
              "      <td>0</td>\n",
              "      <td>0</td>\n",
              "      <td>0</td>\n",
              "      <td>5</td>\n",
              "      <td>...</td>\n",
              "      <td>0</td>\n",
              "      <td>0</td>\n",
              "      <td>0</td>\n",
              "      <td>30</td>\n",
              "      <td>43</td>\n",
              "      <td>0</td>\n",
              "      <td>0</td>\n",
              "      <td>0</td>\n",
              "      <td>0</td>\n",
              "      <td>0</td>\n",
              "    </tr>\n",
              "    <tr>\n",
              "      <th>3</th>\n",
              "      <td>3</td>\n",
              "      <td>0</td>\n",
              "      <td>0</td>\n",
              "      <td>0</td>\n",
              "      <td>0</td>\n",
              "      <td>1</td>\n",
              "      <td>2</td>\n",
              "      <td>0</td>\n",
              "      <td>0</td>\n",
              "      <td>0</td>\n",
              "      <td>...</td>\n",
              "      <td>3</td>\n",
              "      <td>0</td>\n",
              "      <td>0</td>\n",
              "      <td>0</td>\n",
              "      <td>0</td>\n",
              "      <td>1</td>\n",
              "      <td>0</td>\n",
              "      <td>0</td>\n",
              "      <td>0</td>\n",
              "      <td>0</td>\n",
              "    </tr>\n",
              "    <tr>\n",
              "      <th>4</th>\n",
              "      <td>4</td>\n",
              "      <td>3</td>\n",
              "      <td>0</td>\n",
              "      <td>0</td>\n",
              "      <td>0</td>\n",
              "      <td>0</td>\n",
              "      <td>0</td>\n",
              "      <td>0</td>\n",
              "      <td>0</td>\n",
              "      <td>0</td>\n",
              "      <td>...</td>\n",
              "      <td>0</td>\n",
              "      <td>0</td>\n",
              "      <td>0</td>\n",
              "      <td>0</td>\n",
              "      <td>0</td>\n",
              "      <td>0</td>\n",
              "      <td>0</td>\n",
              "      <td>0</td>\n",
              "      <td>0</td>\n",
              "      <td>0</td>\n",
              "    </tr>\n",
              "  </tbody>\n",
              "</table>\n",
              "<p>5 rows × 786 columns</p>\n",
              "</div>\n",
              "      <button class=\"colab-df-convert\" onclick=\"convertToInteractive('df-661e33a6-2ab7-412d-b9e4-7363d4ec61ca')\"\n",
              "              title=\"Convert this dataframe to an interactive table.\"\n",
              "              style=\"display:none;\">\n",
              "        \n",
              "  <svg xmlns=\"http://www.w3.org/2000/svg\" height=\"24px\"viewBox=\"0 0 24 24\"\n",
              "       width=\"24px\">\n",
              "    <path d=\"M0 0h24v24H0V0z\" fill=\"none\"/>\n",
              "    <path d=\"M18.56 5.44l.94 2.06.94-2.06 2.06-.94-2.06-.94-.94-2.06-.94 2.06-2.06.94zm-11 1L8.5 8.5l.94-2.06 2.06-.94-2.06-.94L8.5 2.5l-.94 2.06-2.06.94zm10 10l.94 2.06.94-2.06 2.06-.94-2.06-.94-.94-2.06-.94 2.06-2.06.94z\"/><path d=\"M17.41 7.96l-1.37-1.37c-.4-.4-.92-.59-1.43-.59-.52 0-1.04.2-1.43.59L10.3 9.45l-7.72 7.72c-.78.78-.78 2.05 0 2.83L4 21.41c.39.39.9.59 1.41.59.51 0 1.02-.2 1.41-.59l7.78-7.78 2.81-2.81c.8-.78.8-2.07 0-2.86zM5.41 20L4 18.59l7.72-7.72 1.47 1.35L5.41 20z\"/>\n",
              "  </svg>\n",
              "      </button>\n",
              "      \n",
              "  <style>\n",
              "    .colab-df-container {\n",
              "      display:flex;\n",
              "      flex-wrap:wrap;\n",
              "      gap: 12px;\n",
              "    }\n",
              "\n",
              "    .colab-df-convert {\n",
              "      background-color: #E8F0FE;\n",
              "      border: none;\n",
              "      border-radius: 50%;\n",
              "      cursor: pointer;\n",
              "      display: none;\n",
              "      fill: #1967D2;\n",
              "      height: 32px;\n",
              "      padding: 0 0 0 0;\n",
              "      width: 32px;\n",
              "    }\n",
              "\n",
              "    .colab-df-convert:hover {\n",
              "      background-color: #E2EBFA;\n",
              "      box-shadow: 0px 1px 2px rgba(60, 64, 67, 0.3), 0px 1px 3px 1px rgba(60, 64, 67, 0.15);\n",
              "      fill: #174EA6;\n",
              "    }\n",
              "\n",
              "    [theme=dark] .colab-df-convert {\n",
              "      background-color: #3B4455;\n",
              "      fill: #D2E3FC;\n",
              "    }\n",
              "\n",
              "    [theme=dark] .colab-df-convert:hover {\n",
              "      background-color: #434B5C;\n",
              "      box-shadow: 0px 1px 3px 1px rgba(0, 0, 0, 0.15);\n",
              "      filter: drop-shadow(0px 1px 2px rgba(0, 0, 0, 0.3));\n",
              "      fill: #FFFFFF;\n",
              "    }\n",
              "  </style>\n",
              "\n",
              "      <script>\n",
              "        const buttonEl =\n",
              "          document.querySelector('#df-661e33a6-2ab7-412d-b9e4-7363d4ec61ca button.colab-df-convert');\n",
              "        buttonEl.style.display =\n",
              "          google.colab.kernel.accessAllowed ? 'block' : 'none';\n",
              "\n",
              "        async function convertToInteractive(key) {\n",
              "          const element = document.querySelector('#df-661e33a6-2ab7-412d-b9e4-7363d4ec61ca');\n",
              "          const dataTable =\n",
              "            await google.colab.kernel.invokeFunction('convertToInteractive',\n",
              "                                                     [key], {});\n",
              "          if (!dataTable) return;\n",
              "\n",
              "          const docLinkHtml = 'Like what you see? Visit the ' +\n",
              "            '<a target=\"_blank\" href=https://colab.research.google.com/notebooks/data_table.ipynb>data table notebook</a>'\n",
              "            + ' to learn more about interactive tables.';\n",
              "          element.innerHTML = '';\n",
              "          dataTable['output_type'] = 'display_data';\n",
              "          await google.colab.output.renderOutput(dataTable, element);\n",
              "          const docLink = document.createElement('div');\n",
              "          docLink.innerHTML = docLinkHtml;\n",
              "          element.appendChild(docLink);\n",
              "        }\n",
              "      </script>\n",
              "    </div>\n",
              "  </div>\n",
              "  "
            ]
          },
          "metadata": {},
          "execution_count": 3
        }
      ],
      "source": [
        "train.head()"
      ]
    },
    {
      "cell_type": "code",
      "execution_count": null,
      "metadata": {
        "colab": {
          "base_uri": "https://localhost:8080/"
        },
        "id": "KZghuTn0i6q4",
        "outputId": "cb0eef10-1b0f-45c0-d991-3fbc251c02b5"
      },
      "outputs": [
        {
          "output_type": "execute_result",
          "data": {
            "text/plain": [
              "(60000, 28, 28)"
            ]
          },
          "metadata": {},
          "execution_count": 4
        }
      ],
      "source": [
        "# to see train data as 28*28 px image\n",
        "train_images = train.loc[:, 'pixel1':].values.reshape(-1, 28, 28)\n",
        "train_images.shape"
      ]
    },
    {
      "cell_type": "code",
      "execution_count": null,
      "metadata": {
        "colab": {
          "base_uri": "https://localhost:8080/",
          "height": 282
        },
        "id": "ryPMFse5joWD",
        "outputId": "474d05da-6a8e-4d91-a602-25bab340ce29"
      },
      "outputs": [
        {
          "output_type": "execute_result",
          "data": {
            "text/plain": [
              "<matplotlib.image.AxesImage at 0x7fe3428c3bd0>"
            ]
          },
          "metadata": {},
          "execution_count": 5
        },
        {
          "output_type": "display_data",
          "data": {
            "text/plain": [
              "<Figure size 432x288 with 1 Axes>"
            ],
            "image/png": "[encoded data removed]"
          },
          "metadata": {
            "needs_background": "light"
          }
        }
      ],
      "source": [
        "# printing first image\n",
        "import matplotlib.pyplot as plt\n",
        "plt.imshow(train_images[0])"
      ]
    },
    {
      "cell_type": "code",
      "execution_count": null,
      "metadata": {
        "colab": {
          "base_uri": "https://localhost:8080/"
        },
        "id": "0ZAaWROdj0x2",
        "outputId": "b4e5939d-6f5a-4213-93d1-1bf54b1ee483"
      },
      "outputs": [
        {
          "output_type": "execute_result",
          "data": {
            "text/plain": [
              "array([2, 9, 6, 0, 3, 4, 5, 8, 7, 1])"
            ]
          },
          "metadata": {},
          "execution_count": 6
        }
      ],
      "source": [
        "# target label\n",
        "y_train = train.loc[:, 'label']\n",
        "y_train.unique()"
      ]
    },
    {
      "cell_type": "code",
      "execution_count": null,
      "metadata": {
        "colab": {
          "base_uri": "https://localhost:8080/"
        },
        "id": "hrYYQav2kDSx",
        "outputId": "7e072f75-2a05-4946-fcfc-189d98b05170"
      },
      "outputs": [
        {
          "output_type": "stream",
          "name": "stdout",
          "text": [
            "2\n",
            "Pullover\n"
          ]
        }
      ],
      "source": [
        "# mapping the number label with actual label\n",
        "target_values = {0:'T-shirt/top',\n",
        "                 1:'Trouser',\n",
        "                 2:'Pullover',\n",
        "                 3:'Dress',\n",
        "                 4:'Coat',\n",
        "                 5:'Sandal',\n",
        "                 6:'Shirt',\n",
        "                 7:'Sneaker',\n",
        "                 8:'Bag',\n",
        "                 9:'Ankle boot'}\n",
        "\n",
        "print(y_train[0])\n",
        "print(target_values[y_train[0]])"
      ]
    },
    {
      "cell_type": "code",
      "execution_count": null,
      "metadata": {
        "colab": {
          "base_uri": "https://localhost:8080/"
        },
        "id": "NRcb6Ffok8ra",
        "outputId": "4deedaca-0837-4985-835b-d8c96d0f856e"
      },
      "outputs": [
        {
          "output_type": "execute_result",
          "data": {
            "text/plain": [
              "(10000, 28, 28)"
            ]
          },
          "metadata": {},
          "execution_count": 8
        }
      ],
      "source": [
        "# test data into 28*28 images\n",
        "test_images = test.loc[:, 'pixel1':].values.reshape(-1, 28, 28)\n",
        "test_images.shape"
      ]
    },
    {
      "cell_type": "code",
      "execution_count": null,
      "metadata": {
        "colab": {
          "base_uri": "https://localhost:8080/",
          "height": 282
        },
        "id": "Sb3gFp06leVB",
        "outputId": "3c60b27f-1fde-450e-fb67-828b951ada7c"
      },
      "outputs": [
        {
          "output_type": "execute_result",
          "data": {
            "text/plain": [
              "<matplotlib.image.AxesImage at 0x7fe3427b6d50>"
            ]
          },
          "metadata": {},
          "execution_count": 9
        },
        {
          "output_type": "display_data",
          "data": {
            "text/plain": [
              "<Figure size 432x288 with 1 Axes>"
            ],
            "image/png": "[encoded data removed]"
          },
          "metadata": {
            "needs_background": "light"
          }
        }
      ],
      "source": [
        "# printing 500th test image\n",
        "plt.imshow(test_images[499])"
      ]
    },
    {
      "cell_type": "code",
      "execution_count": null,
      "metadata": {
        "colab": {
          "base_uri": "https://localhost:8080/"
        },
        "id": "Q8qWDETmlpZy",
        "outputId": "5a56c629-9e5c-4a8c-dcb2-974075be3fe2"
      },
      "outputs": [
        {
          "output_type": "stream",
          "name": "stdout",
          "text": [
            "minimum value:  0.0\n",
            "maxinum value:  1.0\n"
          ]
        }
      ],
      "source": [
        "# feature scale\n",
        "\n",
        "# pixel has value between 0~255 so we divide the data by 255 to make the pixel scale between 0~1\n",
        "x_train = train_images / 255.\n",
        "x_test = test_images / 255. \n",
        "\n",
        "print(\"minimum value: \", x_train[0].min())\n",
        "print(\"maxinum value: \", x_train[0].max())"
      ]
    },
    {
      "cell_type": "code",
      "source": [
        "x_test.shape"
      ],
      "metadata": {
        "colab": {
          "base_uri": "https://localhost:8080/"
        },
        "id": "z4Xm8DZne__C",
        "outputId": "832f71ab-9544-4a1b-95e6-3c12d2a23c51"
      },
      "execution_count": null,
      "outputs": [
        {
          "output_type": "execute_result",
          "data": {
            "text/plain": [
              "(10000, 28, 28)"
            ]
          },
          "metadata": {},
          "execution_count": 11
        }
      ]
    },
    {
      "cell_type": "code",
      "execution_count": null,
      "metadata": {
        "colab": {
          "base_uri": "https://localhost:8080/"
        },
        "id": "a4Zry6uEmOEJ",
        "outputId": "dc3002e4-b24e-4713-de44-445966c24b54"
      },
      "outputs": [
        {
          "output_type": "stream",
          "name": "stdout",
          "text": [
            "before change:  (60000, 28, 28) (10000, 28, 28)\n",
            "After change:  (60000, 28, 28, 1) (10000, 28, 28, 1)\n"
          ]
        }
      ],
      "source": [
        "# channel dimension expand\n",
        "print(\"before change: \", x_train.shape, x_test.shape)\n",
        "x_train = np.expand_dims(x_train, axis=-1)\n",
        "x_test = np.expand_dims(x_test, axis=-1)\n",
        "print(\"After change: \", x_train.shape, x_test.shape)"
      ]
    },
    {
      "cell_type": "markdown",
      "metadata": {
        "id": "dCFIEINjnv_C"
      },
      "source": [
        "## 1-2 dataset separation for holdout cross validation"
      ]
    },
    {
      "cell_type": "code",
      "execution_count": null,
      "metadata": {
        "colab": {
          "base_uri": "https://localhost:8080/"
        },
        "id": "r7cw0iXjnnM0",
        "outputId": "9f5c9bf6-4dda-4b29-8868-dc391da13e57"
      },
      "outputs": [
        {
          "output_type": "stream",
          "name": "stdout",
          "text": [
            "train dataset size:  (48000, 28, 28, 1) (48000,)\n",
            "validation dataset size:  (12000, 28, 28, 1) (12000,)\n"
          ]
        }
      ],
      "source": [
        "# train - validation data split\n",
        "from sklearn.model_selection import train_test_split\n",
        "x_tr, x_val, y_tr, y_val = train_test_split(x_train, y_train, test_size=0.2, stratify=y_train, shuffle=True, random_state=SEED)\n",
        "\n",
        "print(\"train dataset size: \", x_tr.shape, y_tr.shape)\n",
        "print(\"validation dataset size: \", x_val.shape, y_val.shape)"
      ]
    },
    {
      "cell_type": "markdown",
      "metadata": {
        "id": "_IpvZ3xGpha-"
      },
      "source": [
        "## 1-3 MLP Model Training\n",
        "- Use **Flatten layer** to process image data which has vertical and horizontal structure to make a one dimensional array.\n",
        "- We are going to make 2 Dense layers\n",
        "- output layer will have 10 units\n",
        "- activation function : softmax\n",
        "- so 784 input and 10 output\n"
      ]
    },
    {
      "cell_type": "code",
      "execution_count": null,
      "metadata": {
        "colab": {
          "base_uri": "https://localhost:8080/"
        },
        "id": "C3jgWSebpUJR",
        "outputId": "c6689066-8dac-4201-abf3-a3f496906c11"
      },
      "outputs": [
        {
          "output_type": "stream",
          "name": "stdout",
          "text": [
            "Model: \"sequential\"\n",
            "_________________________________________________________________\n",
            " Layer (type)                Output Shape              Param #   \n",
            "=================================================================\n",
            " flatten (Flatten)           (None, 784)               0         \n",
            "                                                                 \n",
            " dense (Dense)               (None, 64)                50240     \n",
            "                                                                 \n",
            " dense_1 (Dense)             (None, 10)                650       \n",
            "                                                                 \n",
            "=================================================================\n",
            "Total params: 50,890\n",
            "Trainable params: 50,890\n",
            "Non-trainable params: 0\n",
            "_________________________________________________________________\n"
          ]
        }
      ],
      "source": [
        "from tensorflow.keras.models import Sequential\n",
        "from tensorflow.keras.layers import Flatten, Dense\n",
        "\n",
        "mlp_model = Sequential()\n",
        "mlp_model.add(Flatten(input_shape=[28, 28]))\n",
        "mlp_model.add(Dense(units=64, activation='relu'))\n",
        "mlp_model.add(Dense(units=10, activation='softmax'))\n",
        "\n",
        "mlp_model.compile(optimizer='adam', loss='sparse_categorical_crossentropy', metrics=['acc'])\n",
        "mlp_model.summary()"
      ]
    },
    {
      "cell_type": "code",
      "execution_count": null,
      "metadata": {
        "colab": {
          "base_uri": "https://localhost:8080/"
        },
        "id": "mKcvK2VNq8Gm",
        "outputId": "4c7d2f4f-74a8-4d34-f68c-73da6747c9c0"
      },
      "outputs": [
        {
          "output_type": "stream",
          "name": "stdout",
          "text": [
            "Epoch 1/20\n",
            "750/750 - 3s - loss: 0.5740 - acc: 0.8021 - val_loss: 0.4500 - val_acc: 0.8425 - 3s/epoch - 3ms/step\n",
            "Epoch 2/20\n",
            "750/750 - 2s - loss: 0.4221 - acc: 0.8501 - val_loss: 0.4063 - val_acc: 0.8595 - 2s/epoch - 3ms/step\n",
            "Epoch 3/20\n",
            "750/750 - 2s - loss: 0.3869 - acc: 0.8628 - val_loss: 0.4007 - val_acc: 0.8598 - 2s/epoch - 2ms/step\n",
            "Epoch 4/20\n",
            "750/750 - 2s - loss: 0.3632 - acc: 0.8702 - val_loss: 0.3955 - val_acc: 0.8579 - 2s/epoch - 2ms/step\n",
            "Epoch 5/20\n",
            "750/750 - 2s - loss: 0.3462 - acc: 0.8753 - val_loss: 0.3768 - val_acc: 0.8692 - 2s/epoch - 2ms/step\n",
            "Epoch 6/20\n",
            "750/750 - 2s - loss: 0.3294 - acc: 0.8805 - val_loss: 0.3516 - val_acc: 0.8767 - 2s/epoch - 2ms/step\n",
            "Epoch 7/20\n",
            "750/750 - 2s - loss: 0.3167 - acc: 0.8847 - val_loss: 0.3466 - val_acc: 0.8803 - 2s/epoch - 2ms/step\n",
            "Epoch 8/20\n",
            "750/750 - 2s - loss: 0.3054 - acc: 0.8890 - val_loss: 0.3535 - val_acc: 0.8727 - 2s/epoch - 2ms/step\n",
            "Epoch 9/20\n",
            "750/750 - 2s - loss: 0.2952 - acc: 0.8924 - val_loss: 0.3443 - val_acc: 0.8788 - 2s/epoch - 2ms/step\n",
            "Epoch 10/20\n",
            "750/750 - 2s - loss: 0.2869 - acc: 0.8954 - val_loss: 0.3805 - val_acc: 0.8712 - 2s/epoch - 2ms/step\n",
            "Epoch 11/20\n",
            "750/750 - 2s - loss: 0.2777 - acc: 0.8982 - val_loss: 0.3484 - val_acc: 0.8775 - 2s/epoch - 2ms/step\n",
            "Epoch 12/20\n",
            "750/750 - 2s - loss: 0.2718 - acc: 0.8992 - val_loss: 0.3416 - val_acc: 0.8772 - 2s/epoch - 2ms/step\n",
            "Epoch 13/20\n",
            "750/750 - 2s - loss: 0.2644 - acc: 0.9034 - val_loss: 0.3431 - val_acc: 0.8810 - 2s/epoch - 2ms/step\n",
            "Epoch 14/20\n",
            "750/750 - 2s - loss: 0.2576 - acc: 0.9063 - val_loss: 0.3291 - val_acc: 0.8857 - 2s/epoch - 2ms/step\n",
            "Epoch 15/20\n",
            "750/750 - 2s - loss: 0.2523 - acc: 0.9080 - val_loss: 0.3270 - val_acc: 0.8873 - 2s/epoch - 2ms/step\n",
            "Epoch 16/20\n",
            "750/750 - 2s - loss: 0.2452 - acc: 0.9099 - val_loss: 0.3290 - val_acc: 0.8851 - 2s/epoch - 2ms/step\n",
            "Epoch 17/20\n",
            "750/750 - 2s - loss: 0.2413 - acc: 0.9115 - val_loss: 0.3259 - val_acc: 0.8883 - 2s/epoch - 2ms/step\n",
            "Epoch 18/20\n",
            "750/750 - 2s - loss: 0.2363 - acc: 0.9134 - val_loss: 0.3410 - val_acc: 0.8847 - 2s/epoch - 2ms/step\n",
            "Epoch 19/20\n",
            "750/750 - 2s - loss: 0.2328 - acc: 0.9145 - val_loss: 0.3388 - val_acc: 0.8846 - 2s/epoch - 2ms/step\n",
            "Epoch 20/20\n",
            "750/750 - 2s - loss: 0.2254 - acc: 0.9170 - val_loss: 0.3567 - val_acc: 0.8800 - 2s/epoch - 2ms/step\n"
          ]
        }
      ],
      "source": [
        "mlp_history = mlp_model.fit(x_tr, y_tr, batch_size=64, epochs=20, validation_data=(x_val, y_val), verbose=2)"
      ]
    },
    {
      "cell_type": "code",
      "execution_count": null,
      "metadata": {
        "colab": {
          "base_uri": "https://localhost:8080/"
        },
        "id": "cU9UuD-Drm1p",
        "outputId": "83a07d6e-ac76-422e-f4ef-fa9b13c28781"
      },
      "outputs": [
        {
          "output_type": "execute_result",
          "data": {
            "text/plain": [
              "[<keras.layers.core.flatten.Flatten at 0x7fe342c22410>,\n",
              " <keras.layers.core.dense.Dense at 0x7fe342c22350>,\n",
              " <keras.layers.core.dense.Dense at 0x7fe33dc0c050>]"
            ]
          },
          "metadata": {},
          "execution_count": 16
        }
      ],
      "source": [
        "mlp_model.layers"
      ]
    },
    {
      "cell_type": "code",
      "execution_count": null,
      "metadata": {
        "colab": {
          "base_uri": "https://localhost:8080/",
          "height": 334
        },
        "id": "i_hOoEwpsOuR",
        "outputId": "95023ce8-9e6c-4752-bc83-98ca861d41b7"
      },
      "outputs": [
        {
          "output_type": "display_data",
          "data": {
            "text/plain": [
              "<Figure size 360x360 with 1 Axes>"
            ],
            "image/png": "[encoded data removed]"
          },
          "metadata": {
            "needs_background": "light"
          }
        }
      ],
      "source": [
        "# loss function graph based on history_model\n",
        "def plot_loss_curve(history, total_epoch=10, start=1):\n",
        "  plt.figure(figsize=(5,5))\n",
        "  plt.plot(range(start, total_epoch + 1), history.history['loss'][start-1:total_epoch], label='Train')\n",
        "  plt.plot(range(start, total_epoch + 1), history.history['val_loss'][start-1:total_epoch], label='Validation')\n",
        "\n",
        "  plt.xlabel('Epochs')\n",
        "  plt.ylabel('Loss')\n",
        "  plt.legend()\n",
        "  plt.show()\n",
        "\n",
        "plot_loss_curve(history=mlp_history, total_epoch=20, start=1)\n",
        "\n",
        "# shows overfitting"
      ]
    },
    {
      "cell_type": "markdown",
      "metadata": {
        "id": "ZILoBoe4wlBo"
      },
      "source": [
        "## 1-4 Convolutional Neural Network (CNN)\n",
        "\n",
        "- It is an Deep Learning Algorithm which depicts the visual features of an image by applying convolution filter(or kernel)\n",
        "\n",
        "1. \bImage into number data\n",
        "2. Expand RGB color channel\n",
        "3. Vertical pixel size, horizontal pixel size, and channel size (3rd dimensional vector)\n",
        "\n",
        "Example on 28*28 px image:\n",
        "- black/white image only has 1 channel for the color (28, 28, 1)\n",
        "- color image has 3 channels to express RGB colors (28, 28, 3)\n",
        "\n",
        "Need to know how **CNN** and **Pooling** works"
      ]
    },
    {
      "cell_type": "markdown",
      "metadata": {
        "id": "GtRzAkGd4Ap8"
      },
      "source": [
        "### Fashion MNIST data training with CNN"
      ]
    },
    {
      "cell_type": "code",
      "execution_count": null,
      "metadata": {
        "colab": {
          "base_uri": "https://localhost:8080/"
        },
        "id": "PvhC4KiC3dv0",
        "outputId": "7ded97d8-b2ba-45a0-c6c2-968eeaac1ac4"
      },
      "outputs": [
        {
          "output_type": "stream",
          "name": "stdout",
          "text": [
            "Model: \"sequential_1\"\n",
            "_________________________________________________________________\n",
            " Layer (type)                Output Shape              Param #   \n",
            "=================================================================\n",
            " conv2d (Conv2D)             (None, 26, 26, 16)        160       \n",
            "                                                                 \n",
            " max_pooling2d (MaxPooling2D  (None, 13, 13, 16)       0         \n",
            " )                                                               \n",
            "                                                                 \n",
            " flatten_1 (Flatten)         (None, 2704)              0         \n",
            "                                                                 \n",
            " dense_2 (Dense)             (None, 64)                173120    \n",
            "                                                                 \n",
            " dense_3 (Dense)             (None, 10)                650       \n",
            "                                                                 \n",
            "=================================================================\n",
            "Total params: 173,930\n",
            "Trainable params: 173,930\n",
            "Non-trainable params: 0\n",
            "_________________________________________________________________\n"
          ]
        }
      ],
      "source": [
        "from tensorflow.keras.layers import Conv2D, MaxPooling2D\n",
        "\n",
        "cnn_model = Sequential()\n",
        "cnn_model.add(Conv2D(filters=16, kernel_size=(3,3), activation='relu', input_shape=[28, 28, 1]))\n",
        "\n",
        "cnn_model.add(MaxPooling2D(pool_size=(2,2)))\n",
        "cnn_model.add(Flatten())\n",
        "cnn_model.add(Dense(units=64, activation='relu'))\n",
        "cnn_model.add(Dense(units=10, activation='softmax'))\n",
        "\n",
        "cnn_model.compile(optimizer='adam', loss='sparse_categorical_crossentropy', metrics=['acc'])\n",
        "\n",
        "cnn_model.summary()"
      ]
    },
    {
      "cell_type": "code",
      "execution_count": null,
      "metadata": {
        "colab": {
          "base_uri": "https://localhost:8080/"
        },
        "id": "bKecvmIl7bF-",
        "outputId": "841c6160-6e7d-4643-eb2a-e606eb85508f"
      },
      "outputs": [
        {
          "output_type": "stream",
          "name": "stdout",
          "text": [
            "Epoch 1/20\n",
            "750/750 - 17s - loss: 0.4935 - acc: 0.8271 - val_loss: 0.3742 - val_acc: 0.8665 - 17s/epoch - 23ms/step\n",
            "Epoch 2/20\n",
            "750/750 - 15s - loss: 0.3339 - acc: 0.8815 - val_loss: 0.3107 - val_acc: 0.8916 - 15s/epoch - 20ms/step\n",
            "Epoch 3/20\n",
            "750/750 - 15s - loss: 0.2904 - acc: 0.8967 - val_loss: 0.3023 - val_acc: 0.8922 - 15s/epoch - 20ms/step\n",
            "Epoch 4/20\n",
            "750/750 - 15s - loss: 0.2624 - acc: 0.9064 - val_loss: 0.2877 - val_acc: 0.8949 - 15s/epoch - 20ms/step\n",
            "Epoch 5/20\n",
            "750/750 - 15s - loss: 0.2408 - acc: 0.9139 - val_loss: 0.2855 - val_acc: 0.8995 - 15s/epoch - 20ms/step\n",
            "Epoch 6/20\n",
            "750/750 - 15s - loss: 0.2241 - acc: 0.9203 - val_loss: 0.2744 - val_acc: 0.9027 - 15s/epoch - 19ms/step\n",
            "Epoch 7/20\n",
            "750/750 - 15s - loss: 0.2052 - acc: 0.9256 - val_loss: 0.2705 - val_acc: 0.9034 - 15s/epoch - 20ms/step\n",
            "Epoch 8/20\n",
            "750/750 - 15s - loss: 0.1893 - acc: 0.9314 - val_loss: 0.2590 - val_acc: 0.9062 - 15s/epoch - 19ms/step\n",
            "Epoch 9/20\n",
            "750/750 - 15s - loss: 0.1768 - acc: 0.9375 - val_loss: 0.2531 - val_acc: 0.9112 - 15s/epoch - 20ms/step\n",
            "Epoch 10/20\n",
            "750/750 - 15s - loss: 0.1669 - acc: 0.9398 - val_loss: 0.2658 - val_acc: 0.9062 - 15s/epoch - 20ms/step\n",
            "Epoch 11/20\n",
            "750/750 - 15s - loss: 0.1550 - acc: 0.9427 - val_loss: 0.2625 - val_acc: 0.9122 - 15s/epoch - 20ms/step\n",
            "Epoch 12/20\n",
            "750/750 - 15s - loss: 0.1461 - acc: 0.9476 - val_loss: 0.3030 - val_acc: 0.8970 - 15s/epoch - 19ms/step\n",
            "Epoch 13/20\n",
            "750/750 - 15s - loss: 0.1324 - acc: 0.9528 - val_loss: 0.2651 - val_acc: 0.9110 - 15s/epoch - 20ms/step\n",
            "Epoch 14/20\n",
            "750/750 - 15s - loss: 0.1242 - acc: 0.9564 - val_loss: 0.2613 - val_acc: 0.9112 - 15s/epoch - 20ms/step\n",
            "Epoch 15/20\n",
            "750/750 - 15s - loss: 0.1150 - acc: 0.9594 - val_loss: 0.2665 - val_acc: 0.9116 - 15s/epoch - 19ms/step\n",
            "Epoch 16/20\n",
            "750/750 - 15s - loss: 0.1055 - acc: 0.9624 - val_loss: 0.2743 - val_acc: 0.9124 - 15s/epoch - 20ms/step\n",
            "Epoch 17/20\n",
            "750/750 - 15s - loss: 0.0992 - acc: 0.9646 - val_loss: 0.2861 - val_acc: 0.9120 - 15s/epoch - 20ms/step\n",
            "Epoch 18/20\n",
            "750/750 - 15s - loss: 0.0915 - acc: 0.9681 - val_loss: 0.2827 - val_acc: 0.9147 - 15s/epoch - 19ms/step\n",
            "Epoch 19/20\n",
            "750/750 - 15s - loss: 0.0845 - acc: 0.9707 - val_loss: 0.3138 - val_acc: 0.9082 - 15s/epoch - 19ms/step\n",
            "Epoch 20/20\n",
            "750/750 - 15s - loss: 0.0767 - acc: 0.9746 - val_loss: 0.3096 - val_acc: 0.9115 - 15s/epoch - 19ms/step\n"
          ]
        }
      ],
      "source": [
        "cnn_history = cnn_model.fit(x_tr, y_tr, batch_size=64, epochs=20, validation_data=(x_val, y_val), verbose=2)"
      ]
    },
    {
      "cell_type": "code",
      "execution_count": null,
      "metadata": {
        "colab": {
          "base_uri": "https://localhost:8080/",
          "height": 334
        },
        "id": "5OBHctRq9VYg",
        "outputId": "4fabcc23-5575-4129-f916-d7b5dcff38f4"
      },
      "outputs": [
        {
          "output_type": "display_data",
          "data": {
            "text/plain": [
              "<Figure size 360x360 with 1 Axes>"
            ],
            "image/png": "[encoded data removed]"
          },
          "metadata": {
            "needs_background": "light"
          }
        }
      ],
      "source": [
        "plot_loss_curve(history=cnn_history, total_epoch=20, start=1)\n",
        "#Overfitting"
      ]
    },
    {
      "cell_type": "markdown",
      "metadata": {
        "id": "ocvjBshs9l7P"
      },
      "source": [
        "## 10-5 Prevention of Overfit with \"Dropout\""
      ]
    },
    {
      "cell_type": "code",
      "execution_count": null,
      "metadata": {
        "colab": {
          "base_uri": "https://localhost:8080/"
        },
        "id": "xlpg3FcH-gEW",
        "outputId": "af4c2dce-d3d8-48ed-f9ff-368f09f3b88b"
      },
      "outputs": [
        {
          "output_type": "stream",
          "name": "stdout",
          "text": [
            "Model: \"sequential_2\"\n",
            "_________________________________________________________________\n",
            " Layer (type)                Output Shape              Param #   \n",
            "=================================================================\n",
            " conv2d_1 (Conv2D)           (None, 26, 26, 16)        160       \n",
            "                                                                 \n",
            " max_pooling2d_1 (MaxPooling  (None, 13, 13, 16)       0         \n",
            " 2D)                                                             \n",
            "                                                                 \n",
            " flatten_2 (Flatten)         (None, 2704)              0         \n",
            "                                                                 \n",
            " dense_4 (Dense)             (None, 64)                173120    \n",
            "                                                                 \n",
            " dropout (Dropout)           (None, 64)                0         \n",
            "                                                                 \n",
            " dense_5 (Dense)             (None, 10)                650       \n",
            "                                                                 \n",
            "=================================================================\n",
            "Total params: 173,930\n",
            "Trainable params: 173,930\n",
            "Non-trainable params: 0\n",
            "_________________________________________________________________\n"
          ]
        }
      ],
      "source": [
        "from tensorflow.keras.layers import Dropout\n",
        "def build_cnn():\n",
        "  model = Sequential()\n",
        "  model.add(Conv2D(filters=16, kernel_size=(3,3), activation='relu', input_shape=[28, 28, 1]))\n",
        "\n",
        "  model.add(MaxPooling2D(pool_size=(2, 2)))\n",
        "\n",
        "  model.add(Flatten())\n",
        "\n",
        "  model.add(Dense(units=64, activation='relu'))\n",
        "  model.add(Dropout(rate=0.5))\n",
        "  model.add(Dense(units=10, activation='softmax'))\n",
        "\n",
        "  model.compile(optimizer='adam', loss='sparse_categorical_crossentropy', metrics=['acc'])\n",
        "\n",
        "  return model\n",
        "\n",
        "cnn_model = build_cnn()\n",
        "cnn_model.summary()"
      ]
    },
    {
      "cell_type": "code",
      "execution_count": null,
      "metadata": {
        "id": "Qp9vuhFt_a1H"
      },
      "outputs": [],
      "source": [
        "# Early Stopping Callback function\n",
        "from tensorflow.keras.callbacks import EarlyStopping\n",
        "\n",
        "early_stopping = EarlyStopping(monitor='val_loss', patience=10)\n",
        "\n",
        "cnn_history = cnn_model.fit(x_tr, y_tr, batch_size=64, epochs=100, validation_data=(x_val, y_val), callbacks=[early_stopping], verbose=0)"
      ]
    },
    {
      "cell_type": "code",
      "execution_count": null,
      "metadata": {
        "colab": {
          "base_uri": "https://localhost:8080/",
          "height": 336
        },
        "id": "fbnvK5hsB4km",
        "outputId": "66548e41-3848-4014-b820-92073456fa51"
      },
      "outputs": [
        {
          "output_type": "display_data",
          "data": {
            "text/plain": [
              "<Figure size 720x360 with 2 Axes>"
            ],
            "image/png": "[encoded data removed]"
          },
          "metadata": {
            "needs_background": "light"
          }
        }
      ],
      "source": [
        "# Graph to see the loss function and the accuracy until 20th epoch\n",
        "\n",
        "start=1\n",
        "end=20\n",
        "\n",
        "fig, axes = plt.subplots(1, 2, figsize=(10, 5))\n",
        "\n",
        "axes[0].plot(range(start, end+1), cnn_history.history['loss'][start-1:end], label='Train')\n",
        "axes[0].plot(range(start, end+1), cnn_history.history['val_loss'][start-1:end], label='Validation')\n",
        "axes[0].set_title('Loss')\n",
        "axes[0].legend()\n",
        "\n",
        "axes[1].plot(range(start, end+1), cnn_history.history['acc'][start-1:end], label='Train')\n",
        "axes[1].plot(range(start, end+1), cnn_history.history['val_acc'][start-1:end], label='Validation')\n",
        "axes[1].set_title('Accuracy')\n",
        "axes[1].legend()\n",
        "\n",
        "plt.show()"
      ]
    },
    {
      "cell_type": "code",
      "execution_count": null,
      "metadata": {
        "colab": {
          "base_uri": "https://localhost:8080/"
        },
        "id": "a5FkHHH1D3pr",
        "outputId": "81185ed2-b7f3-4863-df9f-0032e0a691af"
      },
      "outputs": [
        {
          "output_type": "stream",
          "name": "stdout",
          "text": [
            "375/375 [==============================] - 2s 6ms/step - loss: 0.2833 - acc: 0.9104\n"
          ]
        },
        {
          "output_type": "execute_result",
          "data": {
            "text/plain": [
              "[0.28333160281181335, 0.9104166626930237]"
            ]
          },
          "metadata": {},
          "execution_count": 24
        }
      ],
      "source": [
        "cnn_model.evaluate(x_val, y_val)"
      ]
    },
    {
      "cell_type": "code",
      "execution_count": null,
      "metadata": {
        "colab": {
          "base_uri": "https://localhost:8080/"
        },
        "id": "9ISHCmYQGngZ",
        "outputId": "581eaf3b-dae8-4f88-a687-5de47db5391a"
      },
      "outputs": [
        {
          "output_type": "execute_result",
          "data": {
            "text/plain": [
              "(12000,)"
            ]
          },
          "metadata": {},
          "execution_count": 25
        }
      ],
      "source": [
        "x_val.shape\n",
        "y_val.shape"
      ]
    },
    {
      "cell_type": "code",
      "execution_count": null,
      "metadata": {
        "colab": {
          "base_uri": "https://localhost:8080/"
        },
        "id": "4_OyE6DXEF-1",
        "outputId": "41221614-2ef8-4dab-a7ae-e6b87af6d4f8"
      },
      "outputs": [
        {
          "output_type": "execute_result",
          "data": {
            "text/plain": [
              "array([0, 1, 2, 6, 3, 6, 8, 6, 5, 0])"
            ]
          },
          "metadata": {},
          "execution_count": 26
        }
      ],
      "source": [
        "y_pred_proba = cnn_model.predict(x_test)\n",
        "y_pred_classes = np.argmax(y_pred_proba, axis=-1)\n",
        "y_pred_classes[:10]"
      ]
    },
    {
      "cell_type": "code",
      "execution_count": null,
      "metadata": {
        "colab": {
          "base_uri": "https://localhost:8080/"
        },
        "id": "n-BIb2RhGXHu",
        "outputId": "e8c36771-3140-43ea-8687-0b22126f38ef"
      },
      "outputs": [
        {
          "output_type": "execute_result",
          "data": {
            "text/plain": [
              "(10000,)"
            ]
          },
          "metadata": {},
          "execution_count": 27
        }
      ],
      "source": [
        "y_pred_classes.shape"
      ]
    },
    {
      "cell_type": "code",
      "source": [
        "x_test.shape"
      ],
      "metadata": {
        "colab": {
          "base_uri": "https://localhost:8080/"
        },
        "id": "VA1sS4r_cfH7",
        "outputId": "083c42b2-8c02-4192-8ce2-d2ca2264ed67"
      },
      "execution_count": null,
      "outputs": [
        {
          "output_type": "execute_result",
          "data": {
            "text/plain": [
              "(10000, 28, 28, 1)"
            ]
          },
          "metadata": {},
          "execution_count": 28
        }
      ]
    },
    {
      "cell_type": "code",
      "execution_count": null,
      "metadata": {
        "id": "8lub1Kx-EXvi"
      },
      "outputs": [],
      "source": [
        "#submission\n",
        "\n",
        "submission['label'] = y_pred_classes.astype(int)\n",
        "submission_filepath = drive_path + 'mnist_cnn_submission1.csv'\n",
        "submission.to_csv(submission_filepath, index=False)"
      ]
    },
    {
      "cell_type": "markdown",
      "source": [
        "## 1-6 User Config Callback Function"
      ],
      "metadata": {
        "id": "ffiUbHKczVQj"
      }
    },
    {
      "cell_type": "code",
      "source": [
        "from tensorflow.keras.callbacks import Callback\n",
        "\n",
        "class my_callback(Callback):\n",
        "  def on_epoch_end(self, epoch, logs={}):\n",
        "    if(logs.get('val_acc') > 0.91):\n",
        "      self.model.stop_training = True\n",
        "      print(\"\\n\")\n",
        "      print(\"Target Accuracy Achieved: %.4f\" %logs.get('val_acc'))\n",
        "\n",
        "my_callback = my_callback()\n",
        "\n",
        "# Saving Best Model\n",
        "from tensorflow.keras.callbacks import ModelCheckpoint\n",
        "\n",
        "best_model_path = drive_path + \"best_conn_model.h5\"\n",
        "save_best_model = ModelCheckpoint(best_model_path, monitor='val_loss', save_best_only=True, save_weights_only=False)\n",
        "\n",
        "# CNN Model Learning\n",
        "cnn_model = build_cnn()\n",
        "cnn_history = cnn_model.fit(x_tr, y_tr, batch_size=64, epochs=100, validation_data=(x_val, y_val),\n",
        "                            callbacks=[my_callback, save_best_model],\n",
        "                            verbose=2)"
      ],
      "metadata": {
        "colab": {
          "base_uri": "https://localhost:8080/"
        },
        "id": "w7zOx4mozUZ5",
        "outputId": "10e888b9-92a2-464e-f785-63ddd2aca6e6"
      },
      "execution_count": null,
      "outputs": [
        {
          "output_type": "stream",
          "name": "stdout",
          "text": [
            "Epoch 1/100\n",
            "750/750 - 26s - loss: 0.6749 - acc: 0.7607 - val_loss: 0.4005 - val_acc: 0.8648 - 26s/epoch - 34ms/step\n",
            "Epoch 2/100\n",
            "750/750 - 25s - loss: 0.4614 - acc: 0.8397 - val_loss: 0.3328 - val_acc: 0.8823 - 25s/epoch - 34ms/step\n",
            "Epoch 3/100\n",
            "750/750 - 26s - loss: 0.4033 - acc: 0.8584 - val_loss: 0.3115 - val_acc: 0.8879 - 26s/epoch - 35ms/step\n",
            "Epoch 4/100\n",
            "750/750 - 25s - loss: 0.3734 - acc: 0.8707 - val_loss: 0.3009 - val_acc: 0.8909 - 25s/epoch - 34ms/step\n",
            "Epoch 5/100\n",
            "750/750 - 26s - loss: 0.3502 - acc: 0.8760 - val_loss: 0.2858 - val_acc: 0.8958 - 26s/epoch - 34ms/step\n",
            "Epoch 6/100\n",
            "750/750 - 26s - loss: 0.3316 - acc: 0.8821 - val_loss: 0.2839 - val_acc: 0.8952 - 26s/epoch - 35ms/step\n",
            "Epoch 7/100\n",
            "750/750 - 15s - loss: 0.3161 - acc: 0.8882 - val_loss: 0.2791 - val_acc: 0.8992 - 15s/epoch - 21ms/step\n",
            "Epoch 8/100\n",
            "750/750 - 15s - loss: 0.3017 - acc: 0.8911 - val_loss: 0.2665 - val_acc: 0.9037 - 15s/epoch - 20ms/step\n",
            "Epoch 9/100\n",
            "750/750 - 15s - loss: 0.2921 - acc: 0.8943 - val_loss: 0.2623 - val_acc: 0.9044 - 15s/epoch - 21ms/step\n",
            "Epoch 10/100\n",
            "750/750 - 15s - loss: 0.2810 - acc: 0.8969 - val_loss: 0.2660 - val_acc: 0.9057 - 15s/epoch - 20ms/step\n",
            "Epoch 11/100\n",
            "750/750 - 16s - loss: 0.2751 - acc: 0.8997 - val_loss: 0.2609 - val_acc: 0.9074 - 16s/epoch - 21ms/step\n",
            "Epoch 12/100\n",
            "750/750 - 15s - loss: 0.2708 - acc: 0.9021 - val_loss: 0.2590 - val_acc: 0.9069 - 15s/epoch - 20ms/step\n",
            "Epoch 13/100\n",
            "750/750 - 15s - loss: 0.2578 - acc: 0.9067 - val_loss: 0.2696 - val_acc: 0.9021 - 15s/epoch - 20ms/step\n",
            "Epoch 14/100\n",
            "750/750 - 15s - loss: 0.2514 - acc: 0.9074 - val_loss: 0.2594 - val_acc: 0.9090 - 15s/epoch - 20ms/step\n",
            "Epoch 15/100\n",
            "750/750 - 15s - loss: 0.2477 - acc: 0.9089 - val_loss: 0.2614 - val_acc: 0.9072 - 15s/epoch - 20ms/step\n",
            "Epoch 16/100\n",
            "750/750 - 15s - loss: 0.2428 - acc: 0.9096 - val_loss: 0.2581 - val_acc: 0.9095 - 15s/epoch - 20ms/step\n",
            "Epoch 17/100\n",
            "750/750 - 15s - loss: 0.2339 - acc: 0.9121 - val_loss: 0.2639 - val_acc: 0.9080 - 15s/epoch - 20ms/step\n",
            "Epoch 18/100\n",
            "\n",
            "\n",
            "Target Accuracy Achieved: 0.9105\n",
            "750/750 - 15s - loss: 0.2266 - acc: 0.9150 - val_loss: 0.2609 - val_acc: 0.9105 - 15s/epoch - 21ms/step\n"
          ]
        }
      ]
    },
    {
      "cell_type": "code",
      "source": [
        "from tensorflow.keras.models import load_model\n",
        "\n",
        "# Loading a model saved in ModelCheckpoint\n",
        "best_model = load_model(drive_path + \"best_conn_model.h5\")\n",
        "best_model.summary()"
      ],
      "metadata": {
        "colab": {
          "base_uri": "https://localhost:8080/"
        },
        "id": "9AHr7EAI2oHV",
        "outputId": "49ac3ebf-60d3-4973-9f0a-b1c793c2cc8f"
      },
      "execution_count": null,
      "outputs": [
        {
          "output_type": "stream",
          "name": "stdout",
          "text": [
            "Model: \"sequential_4\"\n",
            "_________________________________________________________________\n",
            " Layer (type)                Output Shape              Param #   \n",
            "=================================================================\n",
            " conv2d_3 (Conv2D)           (None, 26, 26, 16)        160       \n",
            "                                                                 \n",
            " max_pooling2d_3 (MaxPooling  (None, 13, 13, 16)       0         \n",
            " 2D)                                                             \n",
            "                                                                 \n",
            " flatten_4 (Flatten)         (None, 2704)              0         \n",
            "                                                                 \n",
            " dense_8 (Dense)             (None, 64)                173120    \n",
            "                                                                 \n",
            " dropout_2 (Dropout)         (None, 64)                0         \n",
            "                                                                 \n",
            " dense_9 (Dense)             (None, 10)                650       \n",
            "                                                                 \n",
            "=================================================================\n",
            "Total params: 173,930\n",
            "Trainable params: 173,930\n",
            "Non-trainable params: 0\n",
            "_________________________________________________________________\n"
          ]
        }
      ]
    },
    {
      "cell_type": "code",
      "source": [
        "y_pred_proba = best_model.predict(x_test)\n",
        "y_pred_classes = np.argmax(y_pred_proba, axis=1)\n",
        "submission['label'] = y_pred_classes\n",
        "submission_filepath = drive_path + \"mnist_cnn_submission2.csv\"\n",
        "submission.to_csv(submission_filepath, index=False)"
      ],
      "metadata": {
        "id": "n0gHklYu3DV_"
      },
      "execution_count": null,
      "outputs": []
    },
    {
      "cell_type": "markdown",
      "source": [
        ""
      ],
      "metadata": {
        "id": "N3rpjbBt35qP"
      }
    }
  ],
  "metadata": {
    "colab": {
      "collapsed_sections": [],
      "name": "fashion_MNIST.ipynb",
      "provenance": [],
      "authorship_tag": "ABX9TyNlVy17OAv0gOBgxZtgsQ/n",
      "include_colab_link": true
    },
    "kernelspec": {
      "display_name": "Python 3",
      "name": "python3"
    },
    "language_info": {
      "name": "python"
    }
  },
  "nbformat": 4,
  "nbformat_minor": 0
}